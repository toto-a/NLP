{
 "cells": [
  {
   "cell_type": "code",
   "execution_count": 2,
   "metadata": {},
   "outputs": [
    {
     "name": "stderr",
     "output_type": "stream",
     "text": [
      "c:\\Users\\Antoi\\AppData\\Local\\Programs\\Python\\Python310\\lib\\site-packages\\tqdm\\auto.py:22: TqdmWarning: IProgress not found. Please update jupyter and ipywidgets. See https://ipywidgets.readthedocs.io/en/stable/user_install.html\n",
      "  from .autonotebook import tqdm as notebook_tqdm\n"
     ]
    }
   ],
   "source": [
    "import torch.nn as nn \n",
    "import torch.nn.functional as F\n",
    "import torch\n",
    "import matplotlib.pyplot as plt\n",
    "%matplotlib inline"
   ]
  },
  {
   "cell_type": "code",
   "execution_count": 30,
   "metadata": {},
   "outputs": [],
   "source": [
    "words=open(\"names.txt\").read().splitlines()"
   ]
  },
  {
   "cell_type": "code",
   "execution_count": 31,
   "metadata": {},
   "outputs": [],
   "source": [
    "chars=sorted(list(set(\"\".join(words))))\n",
    "stoi={s: i+1 for i,s in enumerate(chars)}\n",
    "stoi['.']=0\n",
    "\n",
    "\n",
    "itos={i:s for s,i in stoi.items()}\n",
    "encode= lambda s : [stoi[c] for c in s] #-->int\n",
    "decode=lambda i :  \"\".join([itos[x] for x in i  ])\n",
    "\n",
    "\n"
   ]
  },
  {
   "cell_type": "code",
   "execution_count": 32,
   "metadata": {},
   "outputs": [
    {
     "name": "stdout",
     "output_type": "stream",
     "text": [
      "torch.Size([182625, 3])\n",
      "torch.Size([22655, 3])\n",
      "torch.Size([22866, 3])\n"
     ]
    }
   ],
   "source": [
    "\n",
    "block_size=3\n",
    "def build_dataset(words) :\n",
    "    X,Y=[],[]\n",
    "\n",
    "    for w in words:\n",
    "        context=[0] * block_size\n",
    "        for ch in w+ '.' :\n",
    "            ix=stoi[ch]\n",
    "            X.append(context)\n",
    "            Y.append(ix)\n",
    "            # print(\"\".join([itos[i] for i in context]),\" gives \",\"\".join(itos[ix]))\n",
    "            context=context[1:]+ [ix]\n",
    "\n",
    "    X=torch.tensor(X)\n",
    "    Y=torch.tensor(Y)\n",
    "    print(X.shape)\n",
    "    return X,Y\n",
    "\n",
    "import random \n",
    "random.seed(42)\n",
    "random.shuffle(words)\n",
    "n1=int(0.8*len(words))\n",
    "n2=int(0.9*len(words))\n",
    "\n",
    "Xtr,Ytr=build_dataset(words[:n1])\n",
    "Xdev,Ydev=build_dataset(words[n1:n2])\n",
    "Xte,Yte=build_dataset(words[n2:])"
   ]
  },
  {
   "cell_type": "code",
   "execution_count": 33,
   "metadata": {},
   "outputs": [],
   "source": [
    "#Compare gradient\n",
    "# utility function we will use later when comparing manual gradients to PyTorch gradients\n",
    "def cmp(s, dt, t):\n",
    "  ex = torch.all(dt == t.grad).item()\n",
    "  app = torch.allclose(dt, t.grad)\n",
    "  maxdiff = (dt - t.grad).abs().max().item()\n",
    "  print(f'{s:15s} | exact: {str(ex):5s} | approximate: {str(app):5s} | maxdiff: {maxdiff}')"
   ]
  },
  {
   "cell_type": "code",
   "execution_count": 34,
   "metadata": {},
   "outputs": [
    {
     "data": {
      "text/plain": [
       "26"
      ]
     },
     "execution_count": 34,
     "metadata": {},
     "output_type": "execute_result"
    }
   ],
   "source": [
    "len(chars)"
   ]
  },
  {
   "cell_type": "code",
   "execution_count": 35,
   "metadata": {},
   "outputs": [],
   "source": [
    "g=torch.Generator().manual_seed(2147483647)\n",
    "\n",
    "vocab_size=27\n",
    "n_emb=10\n",
    "hidden_layer=n_hidden=200\n",
    "\n",
    "C=torch.randn((vocab_size,n_emb))\n",
    "W1=torch.randn((n_emb*block_size,hidden_layer),generator=g) * (5/3)/((n_emb*block_size)**0.5)#*0.2\n",
    "b1=torch.randn(hidden_layer,generator=g)*0.1\n",
    "W2=torch.randn((hidden_layer,vocab_size),generator=g)*0.1\n",
    "b2=torch.randn(vocab_size,generator=g)*0.1\n",
    "\n",
    "bngain=torch.randn(1,n_hidden)*0.1 + 1.0\n",
    "bnbias=torch.randn(1,n_hidden)*.1\n",
    "bnmean_running=torch.zeros(1,n_hidden)\n",
    "bnstd_running=torch.ones(1,n_hidden)\n",
    "parameters=[C,W1,b1,W2,b2,bngain,bnbias]\n",
    "\n",
    "for p in parameters:\n",
    "    p.requires_grad=True\n"
   ]
  },
  {
   "cell_type": "code",
   "execution_count": 36,
   "metadata": {},
   "outputs": [],
   "source": [
    "lri=[]\n",
    "lossi=[]\n",
    "stepi=[]\n",
    "\n"
   ]
  },
  {
   "cell_type": "code",
   "execution_count": 37,
   "metadata": {},
   "outputs": [],
   "source": [
    "batch_size = 32\n",
    "n = batch_size # a shorter variable also, for convenience\n",
    "# construct a minibatch\n",
    "ix = torch.randint(0, Xtr.shape[0], (batch_size,), generator=g)\n",
    "Xb, Yb = Xtr[ix], Ytr[ix] # batch X,Y"
   ]
  },
  {
   "cell_type": "code",
   "execution_count": 69,
   "metadata": {},
   "outputs": [
    {
     "data": {
      "text/plain": [
       "tensor(3.7593, grad_fn=<NegBackward0>)"
      ]
     },
     "execution_count": 69,
     "metadata": {},
     "output_type": "execute_result"
    }
   ],
   "source": [
    "\n",
    "emb = C[Xb] # embed the characters into vectors\n",
    "embcat = emb.view(emb.shape[0], -1) # concatenate the vectors\n",
    "# Linear layer 1\n",
    "hprebn = embcat @ W1 + b1 # hidden layer pre-activation\n",
    "# BatchNorm layer\n",
    "bnmeani = 1/n*hprebn.sum(0, keepdim=True)\n",
    "bndiff = hprebn - bnmeani\n",
    "bndiff2 = bndiff**2\n",
    "bnvar = 1/(n-1)*(bndiff2).sum(0, keepdim=True) # note: Bessel's correction (dividing by n-1, not n)\n",
    "bnvar_inv = (bnvar + 1e-5)**-0.5\n",
    "bnraw = bndiff * bnvar_inv\n",
    "hpreact = bngain * bnraw + bnbias\n",
    "# Non-linearity\n",
    "h = torch.tanh(hpreact) # hidden layer\n",
    "# Linear layer 2\n",
    "logits = h @ W2 + b2 # output layer\n",
    "# cross entropy loss (same as F.cross_entropy(logits, Yb))\n",
    "logit_maxes = logits.max(1, keepdim=True).values\n",
    "norm_logits = logits - logit_maxes # subtract max for numerical stability so that exp() doesn't overflow\n",
    "counts = norm_logits.exp()\n",
    "counts_sum = counts.sum(1, keepdims=True)\n",
    "counts_sum_inv = counts_sum**-1 # if I use (1.0 / counts_sum) instead then I can't get backprop to be bit exact...\n",
    "probs = counts * counts_sum_inv\n",
    "logprobs = probs.log()\n",
    "loss = -logprobs[range(n), Yb].mean()\n",
    "\n",
    "# PyTorch backward pass\n",
    "for p in parameters:\n",
    "  p.grad = None\n",
    "for t in [logprobs, probs, counts, counts_sum, counts_sum_inv, # afaik there is no cleaner way\n",
    "          norm_logits, logit_maxes, logits, h, hpreact, bnraw,\n",
    "         bnvar_inv, bnvar, bndiff2, bndiff, hprebn, bnmeani,\n",
    "         embcat, emb]:\n",
    "  t.retain_grad()\n",
    "loss.backward()\n",
    "loss"
   ]
  },
  {
   "cell_type": "code",
   "execution_count": 39,
   "metadata": {},
   "outputs": [
    {
     "data": {
      "text/plain": [
       "torch.Size([32, 200])"
      ]
     },
     "execution_count": 39,
     "metadata": {},
     "output_type": "execute_result"
    }
   ],
   "source": [
    "hpreact.shape\n",
    "\n"
   ]
  },
  {
   "cell_type": "code",
   "execution_count": 70,
   "metadata": {},
   "outputs": [
    {
     "name": "stdout",
     "output_type": "stream",
     "text": [
      "logprobs        | exact: True  | approximate: True  | maxdiff: 0.0\n",
      "probs           | exact: True  | approximate: True  | maxdiff: 0.0\n",
      "counts_sum_inv  | exact: True  | approximate: True  | maxdiff: 0.0\n",
      "counts_sum      | exact: True  | approximate: True  | maxdiff: 0.0\n",
      "counts          | exact: True  | approximate: True  | maxdiff: 0.0\n",
      "norm_logits     | exact: True  | approximate: True  | maxdiff: 0.0\n",
      "logit_maxes     | exact: True  | approximate: True  | maxdiff: 0.0\n",
      "logits          | exact: True  | approximate: True  | maxdiff: 0.0\n",
      "h               | exact: True  | approximate: True  | maxdiff: 0.0\n",
      "W2              | exact: True  | approximate: True  | maxdiff: 0.0\n",
      "b2              | exact: True  | approximate: True  | maxdiff: 0.0\n",
      "hpreact         | exact: True  | approximate: True  | maxdiff: 0.0\n",
      "bngain          | exact: True  | approximate: True  | maxdiff: 0.0\n",
      "bnbias          | exact: True  | approximate: True  | maxdiff: 0.0\n",
      "bnraw           | exact: True  | approximate: True  | maxdiff: 0.0\n",
      "bnvar_inv       | exact: True  | approximate: True  | maxdiff: 0.0\n",
      "bnvar           | exact: True  | approximate: True  | maxdiff: 0.0\n",
      "bndiff2         | exact: True  | approximate: True  | maxdiff: 0.0\n",
      "bndiff          | exact: True  | approximate: True  | maxdiff: 0.0\n",
      "bnmeani         | exact: True  | approximate: True  | maxdiff: 0.0\n",
      "hprebn          | exact: True  | approximate: True  | maxdiff: 0.0\n",
      "embcµat         | exact: True  | approximate: True  | maxdiff: 0.0\n",
      "W1              | exact: True  | approximate: True  | maxdiff: 0.0\n",
      "b1              | exact: True  | approximate: True  | maxdiff: 0.0\n",
      "emb             | exact: True  | approximate: True  | maxdiff: 0.0\n",
      "C               | exact: True  | approximate: True  | maxdiff: 0.0\n"
     ]
    }
   ],
   "source": [
    "# Exercise 1: backprop through the whole thing manually, \n",
    "# backpropagating through exactly all of the variables \n",
    "# as they are defined in the forward pass above, one by one\n",
    "\n",
    "# -----------------\n",
    "# YOUR CODE HERE :)\n",
    "# -----------------\n",
    "\n",
    "Y=F.one_hot(Yb,num_classes=27)\n",
    "dlogprobs=-Y/32\n",
    "cmp('logprobs', dlogprobs, logprobs)\n",
    "\n",
    "dprobs=dlogprobs*1/probs\n",
    "cmp('probs', dprobs, probs)\n",
    "\n",
    "dcounts_sum_inv=(dprobs*counts).sum(1,keepdim=True) \n",
    "cmp('counts_sum_inv', dcounts_sum_inv, counts_sum_inv)\n",
    "\n",
    "dcounts_sum=dcounts_sum_inv*(-1/counts_sum**2)\n",
    "cmp('counts_sum', dcounts_sum, counts_sum)\n",
    "\n",
    "\n",
    "dcounts=torch.ones_like(counts)*dcounts_sum + dprobs*counts_sum_inv\n",
    "cmp('counts', dcounts, counts)\n",
    "\n",
    "dnorm_logits=counts*dcounts\n",
    "cmp('norm_logits', dnorm_logits, norm_logits)\n",
    "\n",
    "dlogit_maxes=(-dnorm_logits).sum(1,keepdim=True)\n",
    "cmp('logit_maxes', dlogit_maxes, logit_maxes)\n",
    "\n",
    "dlogits=F.one_hot(logits.max(1).indices,num_classes=logits.shape[1])*dlogit_maxes + dnorm_logits\n",
    "cmp('logits', dlogits, logits)\n",
    "\n",
    "dh=dlogits@W2.T\n",
    "cmp('h', dh, h)\n",
    "\n",
    "dW2=h.T@dlogits\n",
    "cmp('W2', dW2, W2)\n",
    "\n",
    "db2=dlogits.sum(0)\n",
    "cmp('b2', db2, b2)\n",
    "\n",
    "dhpreact=dh*(1-torch.tanh(hpreact)**2)\n",
    "cmp('hpreact', dhpreact, hpreact)\n",
    "\n",
    "dbngain=(dhpreact*bnraw).sum(0,keepdim=True)\n",
    "cmp('bngain', dbngain, bngain)\n",
    "\n",
    "dbnbias=dhpreact.sum(0,keepdim=True)\n",
    "cmp('bnbias', dbnbias, bnbias)\n",
    "\n",
    "dbnraw=dhpreact*bngain\n",
    "cmp('bnraw', dbnraw, bnraw)\n",
    "\n",
    "dbnvar_inv=(dbnraw*bndiff).sum(0,keepdim=True)\n",
    "cmp('bnvar_inv', dbnvar_inv, bnvar_inv)\n",
    "\n",
    "dbnvar=(dbnvar_inv)*(-0.5*((bnvar+1e-5)**-1.5))\n",
    "cmp('bnvar', dbnvar, bnvar)\n",
    "\n",
    "dbndiff2= 1/(n-1) * torch.ones_like(bndiff2)*dbnvar\n",
    "cmp('bndiff2', dbndiff2, bndiff2)\n",
    "\n",
    "dbndiff=2*bndiff*dbndiff2 + bnvar_inv*dbnraw\n",
    "cmp('bndiff', dbndiff, bndiff)\n",
    "\n",
    "dbnmeani=(-1*dbndiff).sum(0)\n",
    "cmp('bnmeani', dbnmeani, bnmeani)\n",
    "\n",
    "dhprebn=dbndiff+ (1/n)*torch.ones_like(hprebn)*dbnmeani\n",
    "cmp('hprebn', dhprebn, hprebn)\n",
    "\n",
    "dembcat=dhprebn@W1.T\n",
    "cmp('embcµat', dembcat, embcat)\n",
    "\n",
    "dW1=embcat.T@dhprebn\n",
    "cmp('W1', dW1, W1)\n",
    "\n",
    "db1=dhprebn.sum(0)\n",
    "cmp('b1', db1, b1)\n",
    "\n",
    "demb=dembcat.view(emb.shape[0],emb.shape[1], emb.shape[2])\n",
    "cmp('emb', demb, emb)\n",
    "\n",
    "\n",
    "dC=torch.zeros_like(C)\n",
    "for k in range(Xb.shape[0]) :\n",
    "    for j in range(Xb.shape[1]) :\n",
    "        ix=Xb[k,j]\n",
    "        dC[ix]+=demb[k,j]\n",
    "\n",
    "\n",
    "cmp('C', dC, C)"
   ]
  },
  {
   "cell_type": "code",
   "execution_count": 41,
   "metadata": {},
   "outputs": [
    {
     "name": "stdout",
     "output_type": "stream",
     "text": [
      "3.7629151344299316 diff: 4.76837158203125e-07\n"
     ]
    }
   ],
   "source": [
    "# Exercise 2: backprop through cross_entropy but all in one go\n",
    "# to complete this challenge look at the mathematical expression of the loss,\n",
    "# take the derivative, simplify the expression, and just write it out\n",
    "\n",
    "# forward pass\n",
    "\n",
    "# before:\n",
    "# logit_maxes = logits.max(1, keepdim=True).values\n",
    "# norm_logits = logits - logit_maxes # subtract max for numerical stability\n",
    "# counts = norm_logits.exp()\n",
    "# counts_sum = counts.sum(1, keepdims=True)\n",
    "# counts_sum_inv = counts_sum**-1 # if I use (1.0 / counts_sum) instead then I can't get backprop to be bit exact...\n",
    "# probs = counts * counts_sum_inv\n",
    "# logprobs = probs.log()\n",
    "# loss = -logprobs[range(n), Yb].mean()\n",
    "\n",
    "# now:\n",
    "loss_fast = F.cross_entropy(logits, Yb)\n",
    "print(loss_fast.item(), 'diff:', (loss_fast - loss).item())"
   ]
  },
  {
   "cell_type": "code",
   "execution_count": 42,
   "metadata": {},
   "outputs": [
    {
     "name": "stdout",
     "output_type": "stream",
     "text": [
      "max diff: tensor(4.7684e-07, grad_fn=<MaxBackward1>)\n"
     ]
    }
   ],
   "source": [
    "# Exercise 3: backprop through batchnorm but all in one go\n",
    "# to complete this challenge look at the mathematical expression of the output of batchnorm,\n",
    "# take the derivative w.r.t. its input, simplify the expression, and just write it out\n",
    "# BatchNorm paper: https://arxiv.org/abs/1502.03167\n",
    "\n",
    "# forward pass\n",
    "\n",
    "# before:\n",
    "# bnmeani = 1/n*hprebn.sum(0, keepdim=True)\n",
    "# bndiff = hprebn - bnmeani\n",
    "# bndiff2 = bndiff**2\n",
    "# bnvar = 1/(n-1)*(bndiff2).sum(0, keepdim=True) # note: Bessel's correction (dividing by n-1, not n)\n",
    "# bnvar_inv = (bnvar + 1e-5)**-0.5\n",
    "# bnraw = bndiff * bnvar_inv\n",
    "# hpreact = bngain * bnraw + bnbias\n",
    "\n",
    "# now:\n",
    "hpreact_fast = bngain * (hprebn - hprebn.mean(0, keepdim=True)) / torch.sqrt(hprebn.var(0, keepdim=True, unbiased=True) + 1e-5) + bnbias\n",
    "print('max diff:', (hpreact_fast - hpreact).abs().max())"
   ]
  },
  {
   "cell_type": "code",
   "execution_count": 48,
   "metadata": {},
   "outputs": [
    {
     "data": {
      "text/plain": [
       "tensor([[ 3.6104e-04,  6.9559e-04,  9.1139e-04,  3.1884e-04,  7.5230e-04,\n",
       "          8.5073e-04,  7.4304e-04, -2.9837e-02,  1.1258e-03,  1.9946e-03,\n",
       "          6.2782e-04,  1.5654e-03,  1.8000e-04,  6.7390e-03,  4.5210e-04,\n",
       "          2.0327e-03,  8.8493e-04,  1.8751e-03,  6.4239e-04,  3.0904e-04,\n",
       "          3.4170e-04,  5.1870e-04,  1.9513e-03,  1.9469e-03,  5.2962e-04,\n",
       "          4.0189e-04,  1.0853e-03],\n",
       "        [ 9.5695e-04,  1.2250e-03,  7.2955e-04,  1.8292e-03,  1.0490e-03,\n",
       "          6.1403e-04,  1.2267e-03,  2.0571e-03,  3.1434e-03,  2.4961e-04,\n",
       "          7.5121e-04,  8.6155e-04,  3.8467e-03,  2.1346e-04,  1.1377e-03,\n",
       "          2.2949e-03,  4.0153e-04,  1.7926e-03,  5.9910e-04,  2.7025e-04,\n",
       "          4.9008e-04,  7.3389e-04, -3.0666e-02,  7.1439e-04,  8.2570e-04,\n",
       "          1.2596e-03,  1.3925e-03],\n",
       "        [ 9.2975e-04,  5.5157e-04,  5.6078e-04, -3.0073e-02,  6.1974e-04,\n",
       "          7.7691e-04,  7.0684e-04,  1.3975e-03,  2.8441e-03,  3.9557e-04,\n",
       "          6.7194e-04,  9.6842e-04,  6.9202e-03,  5.1018e-04,  1.0257e-03,\n",
       "          1.0629e-03,  1.1125e-03,  1.0395e-03,  8.6303e-04,  3.1533e-04,\n",
       "          8.6202e-04,  1.0530e-03,  7.9403e-04,  5.4731e-04,  7.5040e-04,\n",
       "          1.1193e-03,  1.6747e-03],\n",
       "        [-3.1000e-02,  1.1671e-04,  1.2206e-03,  6.3728e-04,  5.0123e-04,\n",
       "          9.2789e-04,  2.9880e-04,  3.3640e-04,  1.4494e-03,  9.0342e-04,\n",
       "          3.6684e-04,  7.4827e-04,  2.5904e-04,  2.5262e-03,  1.8948e-04,\n",
       "          2.1563e-04,  8.3776e-04,  7.7313e-04,  2.8518e-04,  9.0765e-03,\n",
       "          6.2421e-04,  1.1805e-03,  1.0867e-03,  4.4221e-03,  1.4120e-03,\n",
       "          1.9124e-04,  4.1293e-04],\n",
       "        [ 4.8529e-04,  3.7778e-04,  1.5211e-03,  2.5256e-04,  1.4517e-03,\n",
       "          6.0380e-04,  3.7055e-04,  1.2152e-03,  1.2341e-03,  4.3106e-04,\n",
       "          2.0205e-04,  2.2519e-03,  8.0266e-04,  1.3036e-03,  1.5924e-03,\n",
       "          2.9484e-03,  1.8037e-04,  1.2430e-03,  3.5773e-03,  7.9017e-04,\n",
       "         -3.0892e-02,  1.6419e-03,  1.0454e-03,  1.6239e-03,  4.9381e-04,\n",
       "          3.2410e-04,  2.9279e-03],\n",
       "        [ 1.8339e-04,  1.0242e-03,  4.0005e-04,  1.8216e-03,  1.5998e-03,\n",
       "          1.4932e-03,  2.4942e-03,  2.2334e-04,  4.1470e-04,  3.3834e-03,\n",
       "          2.5512e-03,  1.0568e-03,  1.7999e-04,  2.0941e-03,  2.0479e-03,\n",
       "          7.4217e-04,  7.0058e-04,  2.6657e-03,  6.3415e-04, -3.0362e-02,\n",
       "          2.0141e-04,  6.6598e-04,  6.8221e-04,  1.0062e-03,  8.8743e-04,\n",
       "          1.0512e-03,  1.5712e-04],\n",
       "        [ 2.5238e-04, -3.0167e-02,  1.0528e-03,  1.8038e-04,  5.6266e-04,\n",
       "          1.2364e-03,  6.9827e-04,  2.1272e-03,  1.5687e-04,  1.8805e-03,\n",
       "          9.3460e-04,  8.4326e-04,  4.8642e-04,  2.4545e-03,  2.0512e-03,\n",
       "          1.8298e-03,  8.4047e-04,  1.1874e-03,  7.3599e-04,  1.1315e-03,\n",
       "          4.2810e-04,  1.0916e-03,  1.7322e-03,  3.5226e-03,  4.6087e-04,\n",
       "          5.8803e-04,  1.7007e-03],\n",
       "        [ 9.2975e-04,  5.5157e-04,  5.6078e-04,  1.1768e-03,  6.1974e-04,\n",
       "          7.7691e-04,  7.0684e-04,  1.3975e-03,  2.8441e-03,  3.9557e-04,\n",
       "          6.7194e-04,  9.6842e-04,  6.9202e-03, -3.0740e-02,  1.0257e-03,\n",
       "          1.0629e-03,  1.1125e-03,  1.0395e-03,  8.6303e-04,  3.1533e-04,\n",
       "          8.6202e-04,  1.0530e-03,  7.9403e-04,  5.4731e-04,  7.5040e-04,\n",
       "          1.1193e-03,  1.6747e-03],\n",
       "        [ 6.1205e-04,  5.4779e-04,  6.3468e-04,  2.2013e-04,  1.0025e-03,\n",
       "         -3.0937e-02,  3.9378e-04,  1.5635e-04,  1.2584e-03,  7.6213e-04,\n",
       "          9.0923e-04,  2.1867e-03,  3.1362e-03,  1.3227e-03,  4.4313e-04,\n",
       "          9.7982e-04,  2.6977e-04,  1.4976e-03,  2.2123e-03,  1.7871e-04,\n",
       "          1.4490e-03,  1.0065e-03,  7.4239e-04,  6.6992e-04,  1.6748e-04,\n",
       "          2.5246e-03,  5.6529e-03],\n",
       "        [ 6.3838e-04,  4.7709e-04,  1.1170e-03,  2.3857e-03,  8.5370e-04,\n",
       "          3.5099e-04,  7.0663e-04,  1.5089e-03,  5.0328e-03,  7.9401e-04,\n",
       "          5.8132e-04,  4.6480e-04,  9.0978e-04,  5.9665e-04,  2.1908e-04,\n",
       "          2.8786e-04,  7.5507e-04,  4.2918e-04,  3.1505e-04,  2.6591e-03,\n",
       "          6.5633e-04,  2.7425e-03,  6.2704e-04, -3.0834e-02,  4.3051e-03,\n",
       "          6.7455e-04,  7.4589e-04],\n",
       "        [ 5.3665e-04,  3.2788e-03,  1.2124e-03,  4.6980e-04,  5.6075e-04,\n",
       "          1.4785e-03,  3.7196e-03,  1.0537e-03,  8.6476e-04, -3.0616e-02,\n",
       "          6.2254e-04,  3.8201e-04,  3.9689e-04,  4.3479e-03,  3.3081e-04,\n",
       "          1.8729e-03,  1.7957e-03,  2.3843e-04,  2.6199e-04,  1.7807e-04,\n",
       "          4.2916e-04,  3.0310e-04,  7.0010e-04,  6.2673e-04,  3.4106e-04,\n",
       "          3.8110e-03,  8.0298e-04],\n",
       "        [ 1.8289e-03,  7.0690e-04,  1.0856e-03,  4.8068e-03,  1.9557e-04,\n",
       "          9.6712e-04,  1.8118e-03,  4.3604e-04,  8.4633e-04,  1.9344e-03,\n",
       "          2.5661e-04,  1.1556e-03,  6.9387e-04,  9.6280e-04,  6.0740e-04,\n",
       "          4.5939e-04,  1.2736e-03,  1.0714e-03, -2.9851e-02,  2.4165e-03,\n",
       "          2.5015e-03,  6.6879e-04,  7.4068e-04,  3.2290e-04,  1.7271e-03,\n",
       "          2.7347e-04,  1.0014e-04],\n",
       "        [ 9.2975e-04,  5.5157e-04,  5.6078e-04,  1.1768e-03,  6.1974e-04,\n",
       "          7.7691e-04,  7.0684e-04,  1.3975e-03,  2.8441e-03,  3.9557e-04,\n",
       "          6.7194e-04,  9.6842e-04,  6.9202e-03,  5.1018e-04,  1.0257e-03,\n",
       "          1.0629e-03,  1.1125e-03,  1.0395e-03,  8.6303e-04,  3.1533e-04,\n",
       "          8.6202e-04,  1.0530e-03, -3.0456e-02,  5.4731e-04,  7.5040e-04,\n",
       "          1.1193e-03,  1.6747e-03],\n",
       "        [ 1.2749e-03,  4.5886e-04, -2.9661e-02,  2.6632e-04,  3.4281e-04,\n",
       "          9.8029e-04,  1.7661e-03,  3.6048e-04,  9.8178e-05,  2.8402e-03,\n",
       "          1.1953e-03,  5.6190e-04,  3.1733e-04,  2.7096e-04,  3.1559e-03,\n",
       "          2.6624e-04,  5.6383e-04,  2.2995e-04,  4.9924e-04,  6.4472e-03,\n",
       "          1.7576e-03,  5.6536e-04,  2.0868e-03,  8.3495e-04,  1.2433e-03,\n",
       "          9.5553e-04,  3.2118e-04],\n",
       "        [ 1.9167e-03,  8.9897e-04,  1.2132e-03,  5.1543e-03,  3.7352e-04,\n",
       "          5.1904e-04,  1.3573e-03,  7.8989e-04,  1.4981e-03,  1.2497e-03,\n",
       "          4.0541e-04,  3.5902e-04, -3.0917e-02,  1.7242e-03,  3.0106e-04,\n",
       "          1.9023e-04,  9.4123e-04,  4.1193e-04,  5.7269e-04,  4.9639e-03,\n",
       "          1.4041e-03,  1.1566e-03,  4.2871e-04,  2.5512e-04,  2.1617e-03,\n",
       "          4.8324e-04,  1.8723e-04],\n",
       "        [ 5.9290e-04,  3.0718e-04,  1.6142e-03,  9.4309e-04,  7.8343e-04,\n",
       "          3.8858e-04,  1.0979e-03,  2.3425e-04,  5.2149e-04,  2.2120e-03,\n",
       "          6.6913e-04,  1.0781e-03,  6.2141e-04, -3.0891e-02,  1.4254e-03,\n",
       "          1.7131e-04,  3.7023e-04,  3.8653e-04,  9.4780e-04,  1.1080e-02,\n",
       "          1.9188e-03,  9.4202e-04,  6.0666e-04,  8.1148e-04,  7.5738e-04,\n",
       "          2.5906e-04,  1.5067e-04],\n",
       "        [ 4.1606e-03, -2.9258e-02,  1.5625e-04,  2.5395e-04,  2.8464e-03,\n",
       "          2.7086e-04,  7.4297e-04,  7.6920e-04,  1.3960e-04,  4.9335e-04,\n",
       "          8.3812e-04,  3.6950e-04,  1.7166e-03,  2.2378e-03,  7.9150e-04,\n",
       "          1.7265e-04,  3.0237e-04,  2.0505e-04,  8.0213e-04,  7.4381e-04,\n",
       "          3.3279e-03,  1.8836e-03,  8.3403e-04,  1.8018e-03,  1.0874e-03,\n",
       "          5.1691e-04,  1.7933e-03],\n",
       "        [ 9.2975e-04,  5.5157e-04, -3.0689e-02,  1.1768e-03,  6.1974e-04,\n",
       "          7.7691e-04,  7.0684e-04,  1.3975e-03,  2.8441e-03,  3.9557e-04,\n",
       "          6.7194e-04,  9.6842e-04,  6.9202e-03,  5.1018e-04,  1.0257e-03,\n",
       "          1.0629e-03,  1.1125e-03,  1.0395e-03,  8.6303e-04,  3.1533e-04,\n",
       "          8.6202e-04,  1.0530e-03,  7.9403e-04,  5.4731e-04,  7.5040e-04,\n",
       "          1.1193e-03,  1.6747e-03],\n",
       "        [ 9.2975e-04,  5.5157e-04,  5.6078e-04,  1.1768e-03,  6.1974e-04,\n",
       "          7.7691e-04,  7.0684e-04,  1.3975e-03,  2.8441e-03,  3.9557e-04,\n",
       "         -3.0578e-02,  9.6842e-04,  6.9202e-03,  5.1018e-04,  1.0257e-03,\n",
       "          1.0629e-03,  1.1125e-03,  1.0395e-03,  8.6303e-04,  3.1533e-04,\n",
       "          8.6202e-04,  1.0530e-03,  7.9403e-04,  5.4731e-04,  7.5040e-04,\n",
       "          1.1193e-03,  1.6747e-03],\n",
       "        [ 2.0868e-04,  1.0023e-03,  1.1901e-03,  4.2978e-04,  1.4782e-03,\n",
       "          5.2841e-04,  3.2749e-04,  1.1495e-03,  3.6015e-04,  1.0189e-03,\n",
       "          1.4383e-03,  9.4870e-04,  3.5545e-04,  6.2516e-04,  8.7478e-04,\n",
       "          1.6085e-03,  9.9188e-04,  1.1520e-03,  3.3789e-04, -3.0338e-02,\n",
       "          4.6709e-04,  3.2922e-03,  2.6648e-03,  6.6515e-04,  1.7328e-03,\n",
       "          1.5287e-03,  3.9607e-03],\n",
       "        [ 9.2975e-04,  5.5157e-04,  5.6078e-04,  1.1768e-03,  6.1974e-04,\n",
       "          7.7691e-04,  7.0684e-04,  1.3975e-03,  2.8441e-03,  3.9557e-04,\n",
       "          6.7194e-04,  9.6842e-04,  6.9202e-03, -3.0740e-02,  1.0257e-03,\n",
       "          1.0629e-03,  1.1125e-03,  1.0395e-03,  8.6303e-04,  3.1533e-04,\n",
       "          8.6202e-04,  1.0530e-03,  7.9403e-04,  5.4731e-04,  7.5040e-04,\n",
       "          1.1193e-03,  1.6747e-03],\n",
       "        [ 3.3715e-04,  8.7443e-04,  7.3798e-04,  1.0327e-03,  1.0984e-03,\n",
       "          9.7477e-04,  7.8859e-04,  1.5770e-03,  3.9625e-04, -3.0467e-02,\n",
       "          9.1759e-04,  3.3692e-04,  4.4927e-04,  1.2692e-03,  1.2746e-03,\n",
       "          7.9583e-04,  1.9848e-03,  8.2030e-04,  1.6394e-04,  1.2195e-03,\n",
       "          1.5600e-04,  8.3588e-04,  1.3944e-03,  5.1515e-04,  1.8983e-03,\n",
       "          4.5157e-03,  4.1019e-03],\n",
       "        [ 1.9271e-03,  8.8471e-04,  1.2070e-03,  1.4068e-03,  1.0195e-03,\n",
       "         -3.0265e-02,  1.8837e-03,  4.7478e-04,  1.1117e-03,  1.3139e-03,\n",
       "          5.8711e-04,  1.7375e-03,  1.0978e-03,  3.3680e-04,  2.1133e-03,\n",
       "          1.3374e-03,  3.9744e-04,  1.8696e-03,  2.0476e-03,  2.0324e-03,\n",
       "          9.7449e-04,  1.3851e-03,  1.1853e-03,  5.8707e-04,  4.2592e-04,\n",
       "          7.0527e-04,  2.1573e-04],\n",
       "        [ 2.0713e-03,  1.2907e-03,  2.0551e-03,  3.3629e-04,  1.9216e-04,\n",
       "          9.0222e-04,  3.0215e-04,  2.4855e-04,  1.9264e-03, -3.1041e-02,\n",
       "          2.8372e-04,  5.9856e-04,  1.7641e-03,  8.9884e-04,  1.5423e-04,\n",
       "          2.3621e-03,  2.6810e-03,  2.0616e-04,  3.7400e-04,  1.5992e-03,\n",
       "          6.2151e-03,  6.2793e-04,  6.4911e-04,  1.4080e-03,  6.4458e-04,\n",
       "          5.3758e-04,  7.1234e-04],\n",
       "        [ 5.4491e-04,  6.9444e-04,  1.1017e-03,  4.2911e-03,  8.0912e-04,\n",
       "          1.0165e-03,  1.1296e-03,  4.5510e-04,  1.6434e-03, -2.9888e-02,\n",
       "          1.3387e-03,  1.5819e-03,  2.2129e-04,  1.3877e-03,  3.3514e-04,\n",
       "          2.7396e-04,  5.6243e-04,  2.5689e-04,  9.3049e-04,  1.8602e-03,\n",
       "          1.8173e-03,  9.6898e-04,  6.4340e-04,  1.1496e-03,  3.9667e-03,\n",
       "          6.7636e-04,  2.3087e-04],\n",
       "        [ 1.0599e-03,  1.8644e-03,  4.3266e-04,  6.7319e-05,  1.8272e-03,\n",
       "          4.3832e-04,  8.4155e-04,  5.5506e-04, -3.1171e-02,  3.0077e-03,\n",
       "          1.5284e-03,  3.7688e-04,  1.5769e-03,  3.5691e-03,  1.4574e-03,\n",
       "          1.3039e-04,  9.1461e-04,  3.5506e-04,  4.8767e-04,  5.3033e-04,\n",
       "          1.4795e-03,  2.5309e-03,  9.3038e-04,  2.7170e-03,  5.1012e-04,\n",
       "          1.3912e-03,  5.9113e-04],\n",
       "        [ 7.1529e-04,  1.4167e-03,  4.6907e-04,  7.2066e-04,  1.7677e-03,\n",
       "          5.0629e-04,  1.6875e-03,  1.8968e-03,  1.7575e-04,  1.2032e-03,\n",
       "          1.6162e-03,  4.2014e-04,  4.7306e-04,  4.8713e-04, -2.7124e-02,\n",
       "          6.6259e-04,  9.8841e-04,  4.6149e-04,  3.2820e-04,  1.2065e-03,\n",
       "          5.8525e-04,  2.8938e-03,  1.9110e-03,  5.4964e-04,  8.2305e-04,\n",
       "          1.9204e-03,  1.2378e-03],\n",
       "        [ 7.8067e-04,  1.4951e-03,  4.7026e-04,  1.7190e-03,  2.4823e-03,\n",
       "          3.4188e-04,  2.1649e-03,  1.4913e-03,  8.2151e-04,  8.1140e-04,\n",
       "          4.5598e-04,  6.3340e-04,  1.6558e-03,  3.1985e-04, -2.7017e-02,\n",
       "          5.4499e-04,  4.9270e-04,  1.1119e-03,  5.6242e-04,  1.4771e-03,\n",
       "          5.9138e-04,  1.0716e-03,  1.5354e-03,  2.1838e-04,  1.2777e-03,\n",
       "          1.9462e-03,  5.4377e-04],\n",
       "        [ 9.6073e-04,  5.4724e-04,  9.1601e-04,  5.3949e-04,  9.6609e-04,\n",
       "         -3.0297e-02,  1.4000e-03,  9.3978e-04,  6.3069e-04,  1.1583e-03,\n",
       "          1.1397e-03,  8.1254e-04,  1.3420e-04,  7.0107e-03,  5.9380e-04,\n",
       "          1.5308e-03,  1.7970e-03,  1.1793e-03,  2.1889e-04,  6.2544e-04,\n",
       "          2.3565e-04,  1.6126e-04,  1.0437e-03,  1.1598e-03,  2.5180e-03,\n",
       "          5.8046e-04,  1.4974e-03],\n",
       "        [ 1.4142e-03,  1.7220e-03,  1.7270e-03,  2.5794e-03,  3.4627e-04,\n",
       "          2.5462e-04,  1.1455e-03,  1.2702e-03,  2.1176e-03,  4.2094e-04,\n",
       "          1.6291e-03,  3.8482e-04,  3.5200e-03,  1.7577e-04,  8.8074e-04,\n",
       "          4.5797e-04,  1.3685e-03,  8.7967e-04,  4.6618e-04,  9.0252e-04,\n",
       "         -2.9018e-02,  2.2731e-04,  1.3128e-03,  3.5618e-04,  1.7334e-03,\n",
       "          7.0185e-04,  1.0236e-03],\n",
       "        [ 1.1504e-03,  1.1214e-03,  1.7157e-03,  2.2584e-03,  2.8091e-04,\n",
       "         -3.0654e-02,  1.2975e-03,  1.9581e-03,  4.2502e-03,  3.6999e-04,\n",
       "          4.8853e-04,  1.0785e-03,  3.6041e-03,  2.2463e-04,  2.2946e-04,\n",
       "          1.3472e-03,  6.7993e-04,  8.0699e-04,  4.9017e-04,  4.1640e-04,\n",
       "          1.3501e-03,  8.5153e-04,  7.3332e-04,  5.3267e-04,  2.1368e-03,\n",
       "          5.4297e-04,  7.3805e-04],\n",
       "        [ 1.4863e-03,  1.0361e-03,  1.1679e-03,  6.3817e-04,  1.6336e-03,\n",
       "          9.1993e-04,  1.1574e-03,  2.7200e-03,  1.2241e-03,  7.1364e-04,\n",
       "          1.2741e-03,  5.2301e-04, -3.0902e-02,  2.2686e-03,  2.1110e-03,\n",
       "          3.3173e-03,  1.1999e-03,  1.7277e-03,  4.2130e-04,  4.5302e-04,\n",
       "          3.0802e-04,  2.7955e-04,  1.3388e-03,  4.5349e-04,  1.0072e-03,\n",
       "          4.2653e-04,  1.0954e-03]], grad_fn=<DivBackward0>)"
      ]
     },
     "execution_count": 48,
     "metadata": {},
     "output_type": "execute_result"
    }
   ],
   "source": [
    "torch.var"
   ]
  },
  {
   "cell_type": "code",
   "execution_count": 65,
   "metadata": {},
   "outputs": [
    {
     "name": "stdout",
     "output_type": "stream",
     "text": [
      "logits          | exact: False | approximate: True  | maxdiff: 6.51925802230835e-09\n",
      "hprebn          | exact: False | approximate: True  | maxdiff: 1.862645149230957e-09\n"
     ]
    }
   ],
   "source": [
    "# backward pass\n",
    "\n",
    "dlogits=F.softmax(logits,1)\n",
    "dlogits[range(n),Yb]-=1\n",
    "dlogits/=n\n",
    "\n",
    "cmp('logits',dlogits,logits)\n",
    "\n",
    "# before we had:\n",
    "# dbnraw = bngain * dhpreact\n",
    "# dbndiff = bnvar_inv * dbnraw\n",
    "# dbnvar_inv = (bndiff * dbnraw).sum(0, keepdim=True)\n",
    "# dbnvar = (-0.5*(bnvar + 1e-5)**-1.5) * dbnvar_inv\n",
    "# dbndiff2 = (1.0/(n-1))*torch.ones_like(bndiff2) * dbnvar\n",
    "# dbndiff += (2*bndiff) * dbndiff2\n",
    "# dhprebn = dbndiff.clone()\n",
    "# dbnmeani = (-dbndiff).sum(0)\n",
    "# dhprebn += 1.0/n * (torch.ones_like(hprebn) * dbnmeani)\n",
    "\n",
    "# calculate dhprebn given dhpreact (i.e. backprop through the batchnorm)\n",
    "# (you'll also need to use some of the variables from the forward pass up above)\n",
    "\n",
    "# -----------------\n",
    "# YOUR CODE HERE :)\n",
    "dhprebn =-1*(bngain * bnvar_inv/n) * (n/(n-1)*bnraw*(dhpreact*bnraw).sum(0) - n*dhpreact + dhpreact.sum(0))\n",
    "\n",
    "# -----------------\n",
    "# dhprebn.shape\n",
    "cmp('hprebn', dhprebn, hprebn) # I can only get approximate to be true, my maxdiff is 9e-10"
   ]
  },
  {
   "cell_type": "code",
   "execution_count": null,
   "metadata": {},
   "outputs": [],
   "source": []
  },
  {
   "cell_type": "code",
   "execution_count": null,
   "metadata": {},
   "outputs": [],
   "source": []
  },
  {
   "cell_type": "code",
   "execution_count": null,
   "metadata": {},
   "outputs": [],
   "source": []
  },
  {
   "cell_type": "code",
   "execution_count": null,
   "metadata": {},
   "outputs": [],
   "source": []
  },
  {
   "cell_type": "code",
   "execution_count": null,
   "metadata": {},
   "outputs": [],
   "source": []
  },
  {
   "cell_type": "code",
   "execution_count": 72,
   "metadata": {},
   "outputs": [
    {
     "name": "stdout",
     "output_type": "stream",
     "text": [
      "12297\n",
      "      0/ 200000: 3.7314\n"
     ]
    }
   ],
   "source": [
    "# Exercise 4: putting it all together!\n",
    "# Train the MLP neural net with your own backward pass\n",
    "\n",
    "# init\n",
    "n_embd = 10 # the dimensionality of the character embedding vectors\n",
    "n_hidden = 200 # the number of neurons in the hidden layer of the MLP\n",
    "\n",
    "g = torch.Generator().manual_seed(2147483647) # for reproducibility\n",
    "C  = torch.randn((vocab_size, n_embd),            generator=g)\n",
    "# Layer 1\n",
    "W1 = torch.randn((n_embd * block_size, n_hidden), generator=g) * (5/3)/((n_embd * block_size)**0.5)\n",
    "b1 = torch.randn(n_hidden,                        generator=g) * 0.1\n",
    "# Layer 2\n",
    "W2 = torch.randn((n_hidden, vocab_size),          generator=g) * 0.1\n",
    "b2 = torch.randn(vocab_size,                      generator=g) * 0.1\n",
    "# BatchNorm parameters\n",
    "bngain = torch.randn((1, n_hidden))*0.1 + 1.0\n",
    "bnbias = torch.randn((1, n_hidden))*0.1\n",
    "\n",
    "parameters = [C, W1, b1, W2, b2, bngain, bnbias]\n",
    "print(sum(p.nelement() for p in parameters)) # number of parameters in total\n",
    "for p in parameters:\n",
    "  p.requires_grad = True\n",
    "\n",
    "# same optimization as last time\n",
    "max_steps = 200000\n",
    "batch_size = 32\n",
    "n = batch_size # convenience\n",
    "lossi = []\n",
    "\n",
    "# use this context manager for efficiency once your backward pass is written (TODO)\n",
    "#with torch.no_grad():\n",
    "\n",
    "# kick off optimization\n",
    "for i in range(max_steps):\n",
    "\n",
    "  # minibatch construct\n",
    "  ix = torch.randint(0, Xtr.shape[0], (batch_size,), generator=g)\n",
    "  Xb, Yb = Xtr[ix], Ytr[ix] # batch X,Y\n",
    "\n",
    "  # forward pass\n",
    "  emb = C[Xb] # embed the characters into vectors\n",
    "  embcat = emb.view(emb.shape[0], -1) # concatenate the vectors\n",
    "  # Linear layer\n",
    "  hprebn = embcat @ W1 + b1 # hidden layer pre-activation\n",
    "  # BatchNorm layer\n",
    "  # -------------------------------------------------------------\n",
    "  bnmean = hprebn.mean(0, keepdim=True)\n",
    "  bnvar = hprebn.var(0, keepdim=True, unbiased=True)\n",
    "  bnvar_inv = (bnvar + 1e-5)**-0.5\n",
    "  bnraw = (hprebn - bnmean) * bnvar_inv\n",
    "  hpreact = bngain * bnraw + bnbias\n",
    "  # -------------------------------------------------------------\n",
    "  # Non-linearity\n",
    "  h = torch.tanh(hpreact) # hidden layer\n",
    "  logits = h @ W2 + b2 # output layer\n",
    "  loss = F.cross_entropy(logits, Yb) # loss function\n",
    "\n",
    "  # backward pass\n",
    "  for p in parameters:\n",
    "    p.grad = None\n",
    "  # loss.backward() # use this for correctness comparisons, delete it later!\n",
    "\n",
    "  # manual backprop! #swole_doge_meme\n",
    "  # -----------------\n",
    "  # YOUR CODE HERE :)\n",
    "  grads = [dC, dW1, db1, dW2, db2, dbngain, dbnbias]\n",
    "  # -----------------\n",
    "\n",
    "  # update\n",
    "  lr = 0.1 if i < 100000 else 0.01 # step learning rate decay\n",
    "  for p, grad in zip(parameters, grads):\n",
    "    # p.data += -lr * p.grad # old way of cheems doge (using PyTorch grad from .backward())\n",
    "    p.data += -lr * grad # new way of swole doge TODO: enable\n",
    "\n",
    "  # track stats\n",
    "  if i % 10000 == 0: # print every once in a while\n",
    "    print(f'{i:7d}/{max_steps:7d}: {loss.item():.4f}')\n",
    "  lossi.append(loss.log10().item())\n",
    "\n",
    "  if i >= 100: # TODO: delete early breaking when you're ready to train the full net\n",
    "    break"
   ]
  },
  {
   "cell_type": "code",
   "execution_count": 18,
   "metadata": {},
   "outputs": [
    {
     "data": {
      "image/png": "[encoded data removed]",
      "text/plain": [
       "<Figure size 640x480 with 1 Axes>"
      ]
     },
     "metadata": {},
     "output_type": "display_data"
    }
   ],
   "source": [
    "plt.hist(h.view(-1).tolist(),50);"
   ]
  },
  {
   "cell_type": "code",
   "execution_count": null,
   "metadata": {},
   "outputs": [],
   "source": [
    "#calibrate the batch norm statistic\n",
    "\n",
    "with torch.no_grad() :\n",
    "    emb=C[Xtr]\n",
    "    embcat=emb.view(emb.shape[0],-1)\n",
    "    hpreact=embcat@W1 + b1\n",
    "    #mesure the mean/std over the entre training set\n",
    "    bnmean=hpreact.mean(0,keepdim=True)\n",
    "    bnstd=hpreact.std(0,keepdim=True)\n"
   ]
  },
  {
   "cell_type": "code",
   "execution_count": null,
   "metadata": {},
   "outputs": [],
   "source": [
    "@torch.no_grad() #disable gradient tracking\n",
    "def split_loss(split):\n",
    "    dict={'train' : (Xtr,Ytr),\n",
    "         'val' : (Xdev,Ydev),\n",
    "         'test':(Xte,Yte),}\n",
    "    x,y=dict[split]\n",
    "    emb=C[x]\n",
    "    embcat=emb.view(emb.shape[0],-1)\n",
    "    hpreact=embcat@W1 + b1\n",
    "    hpreact=bngain*((hpreact-bnmean)/bnstd) + bnbias\n",
    "    h=torch.tanh(hpreact) ##broadcasting\n",
    "    logits=h@W2 +b2\n",
    "    loss=F.cross_entropy(logits,y)\n",
    "    print(split,loss.item())\n",
    "\n"
   ]
  },
  {
   "cell_type": "code",
   "execution_count": null,
   "metadata": {},
   "outputs": [
    {
     "name": "stdout",
     "output_type": "stream",
     "text": [
      "val 2.1870784759521484\n"
     ]
    }
   ],
   "source": [
    "split_loss(\"val\")"
   ]
  },
  {
   "cell_type": "code",
   "execution_count": null,
   "metadata": {},
   "outputs": [],
   "source": []
  }
 ],
 "metadata": {
  "kernelspec": {
   "display_name": "Python 3",
   "language": "python",
   "name": "python3"
  },
  "language_info": {
   "codemirror_mode": {
    "name": "ipython",
    "version": 3
   },
   "file_extension": ".py",
   "mimetype": "text/x-python",
   "name": "python",
   "nbconvert_exporter": "python",
   "pygments_lexer": "ipython3",
   "version": "3.10.8"
  }
 },
 "nbformat": 4,
 "nbformat_minor": 2
}
