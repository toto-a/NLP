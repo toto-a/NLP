{
 "cells": [
  {
   "cell_type": "code",
   "execution_count": 18,
   "metadata": {},
   "outputs": [],
   "source": [
    "import torch\n",
    "import torch.nn as nn\n",
    "import torch.nn.functional as F \n",
    "import matplotlib.pyplot as plt\n",
    "import numpy as np"
   ]
  },
  {
   "cell_type": "code",
   "execution_count": 19,
   "metadata": {},
   "outputs": [
    {
     "data": {
      "text/plain": [
       "<torch._C.Generator at 0x1668d79cc50>"
      ]
     },
     "execution_count": 19,
     "metadata": {},
     "output_type": "execute_result"
    }
   ],
   "source": [
    "torch.manual_seed(1337)"
   ]
  },
  {
   "cell_type": "code",
   "execution_count": 26,
   "metadata": {},
   "outputs": [
    {
     "name": "stdout",
     "output_type": "stream",
     "text": [
      "tensor([[ 7., 13.]], dtype=torch.float64)\n",
      "tensor([[ 7., 13.],\n",
      "        [20., 16.]], dtype=torch.float64)\n",
      "tensor([[ 7., 13.],\n",
      "        [20., 16.],\n",
      "        [23.,  1.]], dtype=torch.float64)\n",
      "tensor([[ 7., 13.],\n",
      "        [20., 16.],\n",
      "        [23.,  1.],\n",
      "        [23.,  2.]], dtype=torch.float64)\n",
      "tensor([[ 7., 13.],\n",
      "        [20., 16.],\n",
      "        [23.,  1.],\n",
      "        [23.,  2.],\n",
      "        [18.,  2.]], dtype=torch.float64)\n",
      "tensor([[ 7., 13.],\n",
      "        [20., 16.],\n",
      "        [23.,  1.],\n",
      "        [23.,  2.],\n",
      "        [18.,  2.],\n",
      "        [20.,  0.]], dtype=torch.float64)\n",
      "tensor([[ 7., 13.],\n",
      "        [20., 16.],\n",
      "        [23.,  1.],\n",
      "        [23.,  2.],\n",
      "        [18.,  2.],\n",
      "        [20.,  0.],\n",
      "        [ 9., 22.]], dtype=torch.float64)\n",
      "tensor([[ 7., 13.],\n",
      "        [20., 16.],\n",
      "        [23.,  1.],\n",
      "        [23.,  2.],\n",
      "        [18.,  2.],\n",
      "        [20.,  0.],\n",
      "        [ 9., 22.],\n",
      "        [ 6., 10.]], dtype=torch.float64)\n",
      "tensor([[23., 16.]], dtype=torch.float64)\n",
      "tensor([[23., 16.],\n",
      "        [ 9., 19.]], dtype=torch.float64)\n",
      "tensor([[23., 16.],\n",
      "        [ 9., 19.],\n",
      "        [ 5.,  6.]], dtype=torch.float64)\n",
      "tensor([[23., 16.],\n",
      "        [ 9., 19.],\n",
      "        [ 5.,  6.],\n",
      "        [14., 18.]], dtype=torch.float64)\n",
      "tensor([[23., 16.],\n",
      "        [ 9., 19.],\n",
      "        [ 5.,  6.],\n",
      "        [14., 18.],\n",
      "        [18.,  9.]], dtype=torch.float64)\n",
      "tensor([[23., 16.],\n",
      "        [ 9., 19.],\n",
      "        [ 5.,  6.],\n",
      "        [14., 18.],\n",
      "        [18.,  9.],\n",
      "        [ 0.,  3.]], dtype=torch.float64)\n",
      "tensor([[23., 16.],\n",
      "        [ 9., 19.],\n",
      "        [ 5.,  6.],\n",
      "        [14., 18.],\n",
      "        [18.,  9.],\n",
      "        [ 0.,  3.],\n",
      "        [17., 20.]], dtype=torch.float64)\n",
      "tensor([[23., 16.],\n",
      "        [ 9., 19.],\n",
      "        [ 5.,  6.],\n",
      "        [14., 18.],\n",
      "        [18.,  9.],\n",
      "        [ 0.,  3.],\n",
      "        [17., 20.],\n",
      "        [23.,  3.]], dtype=torch.float64)\n",
      "tensor([[ 6., 17.]], dtype=torch.float64)\n",
      "tensor([[ 6., 17.],\n",
      "        [15., 11.]], dtype=torch.float64)\n",
      "tensor([[ 6., 17.],\n",
      "        [15., 11.],\n",
      "        [19.,  1.]], dtype=torch.float64)\n",
      "tensor([[ 6., 17.],\n",
      "        [15., 11.],\n",
      "        [19.,  1.],\n",
      "        [ 3., 20.]], dtype=torch.float64)\n",
      "tensor([[ 6., 17.],\n",
      "        [15., 11.],\n",
      "        [19.,  1.],\n",
      "        [ 3., 20.],\n",
      "        [16.,  0.]], dtype=torch.float64)\n",
      "tensor([[ 6., 17.],\n",
      "        [15., 11.],\n",
      "        [19.,  1.],\n",
      "        [ 3., 20.],\n",
      "        [16.,  0.],\n",
      "        [21., 15.]], dtype=torch.float64)\n",
      "tensor([[ 6., 17.],\n",
      "        [15., 11.],\n",
      "        [19.,  1.],\n",
      "        [ 3., 20.],\n",
      "        [16.,  0.],\n",
      "        [21., 15.],\n",
      "        [18., 11.]], dtype=torch.float64)\n",
      "tensor([[ 6., 17.],\n",
      "        [15., 11.],\n",
      "        [19.,  1.],\n",
      "        [ 3., 20.],\n",
      "        [16.,  0.],\n",
      "        [21., 15.],\n",
      "        [18., 11.],\n",
      "        [ 9., 12.]], dtype=torch.float64)\n",
      "tensor([[23., 17.]], dtype=torch.float64)\n",
      "tensor([[23., 17.],\n",
      "        [20., 14.]], dtype=torch.float64)\n",
      "tensor([[23., 17.],\n",
      "        [20., 14.],\n",
      "        [20., 12.]], dtype=torch.float64)\n",
      "tensor([[23., 17.],\n",
      "        [20., 14.],\n",
      "        [20., 12.],\n",
      "        [10., 21.]], dtype=torch.float64)\n",
      "tensor([[23., 17.],\n",
      "        [20., 14.],\n",
      "        [20., 12.],\n",
      "        [10., 21.],\n",
      "        [22., 15.]], dtype=torch.float64)\n",
      "tensor([[23., 17.],\n",
      "        [20., 14.],\n",
      "        [20., 12.],\n",
      "        [10., 21.],\n",
      "        [22., 15.],\n",
      "        [12., 10.]], dtype=torch.float64)\n",
      "tensor([[23., 17.],\n",
      "        [20., 14.],\n",
      "        [20., 12.],\n",
      "        [10., 21.],\n",
      "        [22., 15.],\n",
      "        [12., 10.],\n",
      "        [18., 19.]], dtype=torch.float64)\n",
      "tensor([[23., 17.],\n",
      "        [20., 14.],\n",
      "        [20., 12.],\n",
      "        [10., 21.],\n",
      "        [22., 15.],\n",
      "        [12., 10.],\n",
      "        [18., 19.],\n",
      "        [17., 10.]], dtype=torch.float64)\n"
     ]
    }
   ],
   "source": [
    "B,T,C=4,8,2\n",
    "torch.manual_seed(1337)\n",
    "xbow=torch.zeros((B,T,C),dtype=float)\n",
    "x=torch.randint(24,(B,T,C),dtype=float)\n",
    "#Token can't communicate with future token\n",
    "\n",
    "for b in range(B):\n",
    "    for t in range(T):\n",
    "        xprev=x[b,:t+1]\n",
    "        print(xprev)\n",
    "        xbow[b,t]=torch.mean(xprev)\n"
   ]
  },
  {
   "cell_type": "code",
   "execution_count": 30,
   "metadata": {},
   "outputs": [],
   "source": [
    "t=torch.tril(torch.ones(T,T))\n",
    "wei=torch.zeros((T,T))\n",
    "wei=wei.masked_fill(t==0,float('-inf'))\n",
    "wei=F.softmax(wei,dim=1)"
   ]
  },
  {
   "cell_type": "code",
   "execution_count": 31,
   "metadata": {},
   "outputs": [
    {
     "data": {
      "text/plain": [
       "tensor([[1.0000, 0.0000, 0.0000, 0.0000, 0.0000, 0.0000, 0.0000, 0.0000],\n",
       "        [0.5000, 0.5000, 0.0000, 0.0000, 0.0000, 0.0000, 0.0000, 0.0000],\n",
       "        [0.3333, 0.3333, 0.3333, 0.0000, 0.0000, 0.0000, 0.0000, 0.0000],\n",
       "        [0.2500, 0.2500, 0.2500, 0.2500, 0.0000, 0.0000, 0.0000, 0.0000],\n",
       "        [0.2000, 0.2000, 0.2000, 0.2000, 0.2000, 0.0000, 0.0000, 0.0000],\n",
       "        [0.1667, 0.1667, 0.1667, 0.1667, 0.1667, 0.1667, 0.0000, 0.0000],\n",
       "        [0.1429, 0.1429, 0.1429, 0.1429, 0.1429, 0.1429, 0.1429, 0.0000],\n",
       "        [0.1250, 0.1250, 0.1250, 0.1250, 0.1250, 0.1250, 0.1250, 0.1250]])"
      ]
     },
     "execution_count": 31,
     "metadata": {},
     "output_type": "execute_result"
    }
   ],
   "source": []
  },
  {
   "cell_type": "code",
   "execution_count": null,
   "metadata": {},
   "outputs": [],
   "source": []
  },
  {
   "cell_type": "code",
   "execution_count": null,
   "metadata": {},
   "outputs": [],
   "source": []
  },
  {
   "cell_type": "code",
   "execution_count": 11,
   "metadata": {},
   "outputs": [
    {
     "data": {
      "text/plain": [
       "tensor([[[17.,  3.],\n",
       "         [14., 19.],\n",
       "         [ 4.,  6.],\n",
       "         [12.,  0.],\n",
       "         [15.,  0.],\n",
       "         [ 9.,  1.],\n",
       "         [15.,  0.],\n",
       "         [22., 13.]],\n",
       "\n",
       "        [[20., 11.],\n",
       "         [19., 16.],\n",
       "         [ 5.,  4.],\n",
       "         [ 0., 18.],\n",
       "         [ 9.,  1.],\n",
       "         [16.,  4.],\n",
       "         [11.,  2.],\n",
       "         [18., 15.]],\n",
       "\n",
       "        [[ 8., 22.],\n",
       "         [19., 17.],\n",
       "         [ 8.,  9.],\n",
       "         [ 2., 17.],\n",
       "         [15., 16.],\n",
       "         [19., 18.],\n",
       "         [18.,  4.],\n",
       "         [17., 13.]],\n",
       "\n",
       "        [[ 2.,  7.],\n",
       "         [ 3.,  7.],\n",
       "         [23., 22.],\n",
       "         [ 2.,  9.],\n",
       "         [18.,  4.],\n",
       "         [10., 19.],\n",
       "         [16., 10.],\n",
       "         [ 6., 13.]]], dtype=torch.float64)"
      ]
     },
     "execution_count": 11,
     "metadata": {},
     "output_type": "execute_result"
    }
   ],
   "source": [
    "x"
   ]
  },
  {
   "cell_type": "code",
   "execution_count": null,
   "metadata": {},
   "outputs": [],
   "source": []
  },
  {
   "cell_type": "code",
   "execution_count": null,
   "metadata": {},
   "outputs": [],
   "source": []
  },
  {
   "cell_type": "code",
   "execution_count": null,
   "metadata": {},
   "outputs": [],
   "source": []
  }
 ],
 "metadata": {
  "kernelspec": {
   "display_name": "Python 3",
   "language": "python",
   "name": "python3"
  },
  "language_info": {
   "codemirror_mode": {
    "name": "ipython",
    "version": 3
   },
   "file_extension": ".py",
   "mimetype": "text/x-python",
   "name": "python",
   "nbconvert_exporter": "python",
   "pygments_lexer": "ipython3",
   "version": "3.9.12"
  }
 },
 "nbformat": 4,
 "nbformat_minor": 2
}
