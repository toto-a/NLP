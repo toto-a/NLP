{
 "cells": [
  {
   "cell_type": "code",
   "execution_count": 9,
   "metadata": {},
   "outputs": [],
   "source": [
    "import torch\n",
    "import torch.nn as nn\n",
    "import torch.nn.functional as F \n",
    "import matplotlib.pyplot as plt\n",
    "import numpy as np\n",
    "import math"
   ]
  },
  {
   "cell_type": "code",
   "execution_count": 10,
   "metadata": {},
   "outputs": [
    {
     "name": "stdout",
     "output_type": "stream",
     "text": [
      "tensor([[ 7., 13.]], dtype=torch.float64)\n",
      "tensor([[ 7., 13.],\n",
      "        [20., 16.]], dtype=torch.float64)\n",
      "tensor([[ 7., 13.],\n",
      "        [20., 16.],\n",
      "        [23.,  1.]], dtype=torch.float64)\n",
      "tensor([[ 7., 13.],\n",
      "        [20., 16.],\n",
      "        [23.,  1.],\n",
      "        [23.,  2.]], dtype=torch.float64)\n",
      "tensor([[ 7., 13.],\n",
      "        [20., 16.],\n",
      "        [23.,  1.],\n",
      "        [23.,  2.],\n",
      "        [18.,  2.]], dtype=torch.float64)\n",
      "tensor([[ 7., 13.],\n",
      "        [20., 16.],\n",
      "        [23.,  1.],\n",
      "        [23.,  2.],\n",
      "        [18.,  2.],\n",
      "        [20.,  0.]], dtype=torch.float64)\n",
      "tensor([[ 7., 13.],\n",
      "        [20., 16.],\n",
      "        [23.,  1.],\n",
      "        [23.,  2.],\n",
      "        [18.,  2.],\n",
      "        [20.,  0.],\n",
      "        [ 9., 22.]], dtype=torch.float64)\n",
      "tensor([[ 7., 13.],\n",
      "        [20., 16.],\n",
      "        [23.,  1.],\n",
      "        [23.,  2.],\n",
      "        [18.,  2.],\n",
      "        [20.,  0.],\n",
      "        [ 9., 22.],\n",
      "        [ 6., 10.]], dtype=torch.float64)\n",
      "tensor([[23., 16.]], dtype=torch.float64)\n",
      "tensor([[23., 16.],\n",
      "        [ 9., 19.]], dtype=torch.float64)\n",
      "tensor([[23., 16.],\n",
      "        [ 9., 19.],\n",
      "        [ 5.,  6.]], dtype=torch.float64)\n",
      "tensor([[23., 16.],\n",
      "        [ 9., 19.],\n",
      "        [ 5.,  6.],\n",
      "        [14., 18.]], dtype=torch.float64)\n",
      "tensor([[23., 16.],\n",
      "        [ 9., 19.],\n",
      "        [ 5.,  6.],\n",
      "        [14., 18.],\n",
      "        [18.,  9.]], dtype=torch.float64)\n",
      "tensor([[23., 16.],\n",
      "        [ 9., 19.],\n",
      "        [ 5.,  6.],\n",
      "        [14., 18.],\n",
      "        [18.,  9.],\n",
      "        [ 0.,  3.]], dtype=torch.float64)\n",
      "tensor([[23., 16.],\n",
      "        [ 9., 19.],\n",
      "        [ 5.,  6.],\n",
      "        [14., 18.],\n",
      "        [18.,  9.],\n",
      "        [ 0.,  3.],\n",
      "        [17., 20.]], dtype=torch.float64)\n",
      "tensor([[23., 16.],\n",
      "        [ 9., 19.],\n",
      "        [ 5.,  6.],\n",
      "        [14., 18.],\n",
      "        [18.,  9.],\n",
      "        [ 0.,  3.],\n",
      "        [17., 20.],\n",
      "        [23.,  3.]], dtype=torch.float64)\n",
      "tensor([[ 6., 17.]], dtype=torch.float64)\n",
      "tensor([[ 6., 17.],\n",
      "        [15., 11.]], dtype=torch.float64)\n",
      "tensor([[ 6., 17.],\n",
      "        [15., 11.],\n",
      "        [19.,  1.]], dtype=torch.float64)\n",
      "tensor([[ 6., 17.],\n",
      "        [15., 11.],\n",
      "        [19.,  1.],\n",
      "        [ 3., 20.]], dtype=torch.float64)\n",
      "tensor([[ 6., 17.],\n",
      "        [15., 11.],\n",
      "        [19.,  1.],\n",
      "        [ 3., 20.],\n",
      "        [16.,  0.]], dtype=torch.float64)\n",
      "tensor([[ 6., 17.],\n",
      "        [15., 11.],\n",
      "        [19.,  1.],\n",
      "        [ 3., 20.],\n",
      "        [16.,  0.],\n",
      "        [21., 15.]], dtype=torch.float64)\n",
      "tensor([[ 6., 17.],\n",
      "        [15., 11.],\n",
      "        [19.,  1.],\n",
      "        [ 3., 20.],\n",
      "        [16.,  0.],\n",
      "        [21., 15.],\n",
      "        [18., 11.]], dtype=torch.float64)\n",
      "tensor([[ 6., 17.],\n",
      "        [15., 11.],\n",
      "        [19.,  1.],\n",
      "        [ 3., 20.],\n",
      "        [16.,  0.],\n",
      "        [21., 15.],\n",
      "        [18., 11.],\n",
      "        [ 9., 12.]], dtype=torch.float64)\n",
      "tensor([[23., 17.]], dtype=torch.float64)\n",
      "tensor([[23., 17.],\n",
      "        [20., 14.]], dtype=torch.float64)\n",
      "tensor([[23., 17.],\n",
      "        [20., 14.],\n",
      "        [20., 12.]], dtype=torch.float64)\n",
      "tensor([[23., 17.],\n",
      "        [20., 14.],\n",
      "        [20., 12.],\n",
      "        [10., 21.]], dtype=torch.float64)\n",
      "tensor([[23., 17.],\n",
      "        [20., 14.],\n",
      "        [20., 12.],\n",
      "        [10., 21.],\n",
      "        [22., 15.]], dtype=torch.float64)\n",
      "tensor([[23., 17.],\n",
      "        [20., 14.],\n",
      "        [20., 12.],\n",
      "        [10., 21.],\n",
      "        [22., 15.],\n",
      "        [12., 10.]], dtype=torch.float64)\n",
      "tensor([[23., 17.],\n",
      "        [20., 14.],\n",
      "        [20., 12.],\n",
      "        [10., 21.],\n",
      "        [22., 15.],\n",
      "        [12., 10.],\n",
      "        [18., 19.]], dtype=torch.float64)\n",
      "tensor([[23., 17.],\n",
      "        [20., 14.],\n",
      "        [20., 12.],\n",
      "        [10., 21.],\n",
      "        [22., 15.],\n",
      "        [12., 10.],\n",
      "        [18., 19.],\n",
      "        [17., 10.]], dtype=torch.float64)\n"
     ]
    }
   ],
   "source": [
    "B,T,C=4,8,2\n",
    "torch.manual_seed(1337)\n",
    "xbow=torch.zeros((B,T,C),dtype=float)\n",
    "x=torch.randint(24,(B,T,C),dtype=float)\n",
    "#Token can't communicate with future token\n",
    "\n",
    "for b in range(B):\n",
    "    for t in range(T):\n",
    "        xprev=x[b,:t+1]\n",
    "        print(xprev)\n",
    "        xbow[b,t]=torch.mean(xprev)\n"
   ]
  },
  {
   "cell_type": "code",
   "execution_count": 11,
   "metadata": {},
   "outputs": [],
   "source": [
    "t=torch.tril(torch.ones(T,T))\n",
    "wei=torch.zeros((T,T))\n",
    "wei=wei.masked_fill(t==0,float('-inf'))\n",
    "wei=F.softmax(wei,dim=1)"
   ]
  },
  {
   "cell_type": "code",
   "execution_count": 12,
   "metadata": {},
   "outputs": [
    {
     "data": {
      "text/plain": [
       "tensor([[[ 7., 13.],\n",
       "         [20., 16.],\n",
       "         [23.,  1.],\n",
       "         [23.,  2.],\n",
       "         [18.,  2.],\n",
       "         [20.,  0.],\n",
       "         [ 9., 22.],\n",
       "         [ 6., 10.]],\n",
       "\n",
       "        [[23., 16.],\n",
       "         [ 9., 19.],\n",
       "         [ 5.,  6.],\n",
       "         [14., 18.],\n",
       "         [18.,  9.],\n",
       "         [ 0.,  3.],\n",
       "         [17., 20.],\n",
       "         [23.,  3.]],\n",
       "\n",
       "        [[ 6., 17.],\n",
       "         [15., 11.],\n",
       "         [19.,  1.],\n",
       "         [ 3., 20.],\n",
       "         [16.,  0.],\n",
       "         [21., 15.],\n",
       "         [18., 11.],\n",
       "         [ 9., 12.]],\n",
       "\n",
       "        [[23., 17.],\n",
       "         [20., 14.],\n",
       "         [20., 12.],\n",
       "         [10., 21.],\n",
       "         [22., 15.],\n",
       "         [12., 10.],\n",
       "         [18., 19.],\n",
       "         [17., 10.]]], dtype=torch.float64)"
      ]
     },
     "execution_count": 12,
     "metadata": {},
     "output_type": "execute_result"
    }
   ],
   "source": [
    "x"
   ]
  },
  {
   "cell_type": "code",
   "execution_count": 15,
   "metadata": {},
   "outputs": [],
   "source": [
    "pe=torch.zeros(65,512)\n",
    "position=torch.arange(65,dtype=torch.float).unsqueeze(1)\n",
    "div_term=torch.exp(-torch.arange(0,512,2)*math.log(10000)/512)"
   ]
  },
  {
   "cell_type": "code",
   "execution_count": 42,
   "metadata": {},
   "outputs": [],
   "source": [
    "a=position*div_term"
   ]
  },
  {
   "cell_type": "code",
   "execution_count": 44,
   "metadata": {},
   "outputs": [],
   "source": [
    "pe[:,0::2]=torch.sin(position*div_term)\n",
    "pe"
   ]
  },
  {
   "cell_type": "code",
   "execution_count": 46,
   "metadata": {},
   "outputs": [
    {
     "data": {
      "text/plain": [
       "tensor([[ 0.0000e+00,  0.0000e+00,  0.0000e+00,  ...,  0.0000e+00,\n",
       "          0.0000e+00,  0.0000e+00],\n",
       "        [ 8.4147e-01,  8.2186e-01,  8.0196e-01,  ...,  1.1140e-04,\n",
       "          1.0746e-04,  1.0366e-04],\n",
       "        [ 9.0930e-01,  9.3641e-01,  9.5814e-01,  ...,  2.2279e-04,\n",
       "          2.1492e-04,  2.0733e-04],\n",
       "        ...,\n",
       "        [-7.3918e-01, -1.1848e-01,  9.1145e-01,  ...,  6.9066e-03,\n",
       "          6.6625e-03,  6.4271e-03],\n",
       "        [ 1.6736e-01, -8.8357e-01,  8.7441e-01,  ...,  7.0180e-03,\n",
       "          6.7700e-03,  6.5307e-03],\n",
       "        [ 9.2003e-01, -8.8825e-01,  1.3325e-01,  ...,  7.1294e-03,\n",
       "          6.8774e-03,  6.6344e-03]])"
      ]
     },
     "execution_count": 46,
     "metadata": {},
     "output_type": "execute_result"
    }
   ],
   "source": [
    "torch.sin(position*div_term)"
   ]
  },
  {
   "cell_type": "code",
   "execution_count": null,
   "metadata": {},
   "outputs": [],
   "source": []
  },
  {
   "cell_type": "code",
   "execution_count": 45,
   "metadata": {},
   "outputs": [
    {
     "data": {
      "text/plain": [
       "torch.Size([65, 512])"
      ]
     },
     "execution_count": 45,
     "metadata": {},
     "output_type": "execute_result"
    }
   ],
   "source": [
    "pe.shape"
   ]
  },
  {
   "cell_type": "code",
   "execution_count": null,
   "metadata": {},
   "outputs": [],
   "source": []
  }
 ],
 "metadata": {
  "kernelspec": {
   "display_name": "Python 3",
   "language": "python",
   "name": "python3"
  },
  "language_info": {
   "codemirror_mode": {
    "name": "ipython",
    "version": 3
   },
   "file_extension": ".py",
   "mimetype": "text/x-python",
   "name": "python",
   "nbconvert_exporter": "python",
   "pygments_lexer": "ipython3",
   "version": "3.9.12"
  }
 },
 "nbformat": 4,
 "nbformat_minor": 2
}
