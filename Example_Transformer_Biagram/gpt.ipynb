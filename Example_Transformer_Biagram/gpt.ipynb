{
 "cells": [
  {
   "cell_type": "code",
   "execution_count": 1,
   "metadata": {},
   "outputs": [],
   "source": [
    "import torch\n",
    "import torch.nn as nn\n",
    "import torch.nn.functional as F \n",
    "import matplotlib.pyplot as plt\n",
    "import numpy as np\n",
    "import math"
   ]
  },
  {
   "cell_type": "code",
   "execution_count": 2,
   "metadata": {},
   "outputs": [
    {
     "name": "stdout",
     "output_type": "stream",
     "text": [
      "tensor([[ 7., 13.]], dtype=torch.float64)\n",
      "tensor([[ 7., 13.],\n",
      "        [20., 16.]], dtype=torch.float64)\n",
      "tensor([[ 7., 13.],\n",
      "        [20., 16.],\n",
      "        [23.,  1.]], dtype=torch.float64)\n",
      "tensor([[ 7., 13.],\n",
      "        [20., 16.],\n",
      "        [23.,  1.],\n",
      "        [23.,  2.]], dtype=torch.float64)\n",
      "tensor([[ 7., 13.],\n",
      "        [20., 16.],\n",
      "        [23.,  1.],\n",
      "        [23.,  2.],\n",
      "        [18.,  2.]], dtype=torch.float64)\n",
      "tensor([[ 7., 13.],\n",
      "        [20., 16.],\n",
      "        [23.,  1.],\n",
      "        [23.,  2.],\n",
      "        [18.,  2.],\n",
      "        [20.,  0.]], dtype=torch.float64)\n",
      "tensor([[ 7., 13.],\n",
      "        [20., 16.],\n",
      "        [23.,  1.],\n",
      "        [23.,  2.],\n",
      "        [18.,  2.],\n",
      "        [20.,  0.],\n",
      "        [ 9., 22.]], dtype=torch.float64)\n",
      "tensor([[ 7., 13.],\n",
      "        [20., 16.],\n",
      "        [23.,  1.],\n",
      "        [23.,  2.],\n",
      "        [18.,  2.],\n",
      "        [20.,  0.],\n",
      "        [ 9., 22.],\n",
      "        [ 6., 10.]], dtype=torch.float64)\n",
      "tensor([[23., 16.]], dtype=torch.float64)\n",
      "tensor([[23., 16.],\n",
      "        [ 9., 19.]], dtype=torch.float64)\n",
      "tensor([[23., 16.],\n",
      "        [ 9., 19.],\n",
      "        [ 5.,  6.]], dtype=torch.float64)\n",
      "tensor([[23., 16.],\n",
      "        [ 9., 19.],\n",
      "        [ 5.,  6.],\n",
      "        [14., 18.]], dtype=torch.float64)\n",
      "tensor([[23., 16.],\n",
      "        [ 9., 19.],\n",
      "        [ 5.,  6.],\n",
      "        [14., 18.],\n",
      "        [18.,  9.]], dtype=torch.float64)\n",
      "tensor([[23., 16.],\n",
      "        [ 9., 19.],\n",
      "        [ 5.,  6.],\n",
      "        [14., 18.],\n",
      "        [18.,  9.],\n",
      "        [ 0.,  3.]], dtype=torch.float64)\n",
      "tensor([[23., 16.],\n",
      "        [ 9., 19.],\n",
      "        [ 5.,  6.],\n",
      "        [14., 18.],\n",
      "        [18.,  9.],\n",
      "        [ 0.,  3.],\n",
      "        [17., 20.]], dtype=torch.float64)\n",
      "tensor([[23., 16.],\n",
      "        [ 9., 19.],\n",
      "        [ 5.,  6.],\n",
      "        [14., 18.],\n",
      "        [18.,  9.],\n",
      "        [ 0.,  3.],\n",
      "        [17., 20.],\n",
      "        [23.,  3.]], dtype=torch.float64)\n",
      "tensor([[ 6., 17.]], dtype=torch.float64)\n",
      "tensor([[ 6., 17.],\n",
      "        [15., 11.]], dtype=torch.float64)\n",
      "tensor([[ 6., 17.],\n",
      "        [15., 11.],\n",
      "        [19.,  1.]], dtype=torch.float64)\n",
      "tensor([[ 6., 17.],\n",
      "        [15., 11.],\n",
      "        [19.,  1.],\n",
      "        [ 3., 20.]], dtype=torch.float64)\n",
      "tensor([[ 6., 17.],\n",
      "        [15., 11.],\n",
      "        [19.,  1.],\n",
      "        [ 3., 20.],\n",
      "        [16.,  0.]], dtype=torch.float64)\n",
      "tensor([[ 6., 17.],\n",
      "        [15., 11.],\n",
      "        [19.,  1.],\n",
      "        [ 3., 20.],\n",
      "        [16.,  0.],\n",
      "        [21., 15.]], dtype=torch.float64)\n",
      "tensor([[ 6., 17.],\n",
      "        [15., 11.],\n",
      "        [19.,  1.],\n",
      "        [ 3., 20.],\n",
      "        [16.,  0.],\n",
      "        [21., 15.],\n",
      "        [18., 11.]], dtype=torch.float64)\n",
      "tensor([[ 6., 17.],\n",
      "        [15., 11.],\n",
      "        [19.,  1.],\n",
      "        [ 3., 20.],\n",
      "        [16.,  0.],\n",
      "        [21., 15.],\n",
      "        [18., 11.],\n",
      "        [ 9., 12.]], dtype=torch.float64)\n",
      "tensor([[23., 17.]], dtype=torch.float64)\n",
      "tensor([[23., 17.],\n",
      "        [20., 14.]], dtype=torch.float64)\n",
      "tensor([[23., 17.],\n",
      "        [20., 14.],\n",
      "        [20., 12.]], dtype=torch.float64)\n",
      "tensor([[23., 17.],\n",
      "        [20., 14.],\n",
      "        [20., 12.],\n",
      "        [10., 21.]], dtype=torch.float64)\n",
      "tensor([[23., 17.],\n",
      "        [20., 14.],\n",
      "        [20., 12.],\n",
      "        [10., 21.],\n",
      "        [22., 15.]], dtype=torch.float64)\n",
      "tensor([[23., 17.],\n",
      "        [20., 14.],\n",
      "        [20., 12.],\n",
      "        [10., 21.],\n",
      "        [22., 15.],\n",
      "        [12., 10.]], dtype=torch.float64)\n",
      "tensor([[23., 17.],\n",
      "        [20., 14.],\n",
      "        [20., 12.],\n",
      "        [10., 21.],\n",
      "        [22., 15.],\n",
      "        [12., 10.],\n",
      "        [18., 19.]], dtype=torch.float64)\n",
      "tensor([[23., 17.],\n",
      "        [20., 14.],\n",
      "        [20., 12.],\n",
      "        [10., 21.],\n",
      "        [22., 15.],\n",
      "        [12., 10.],\n",
      "        [18., 19.],\n",
      "        [17., 10.]], dtype=torch.float64)\n"
     ]
    }
   ],
   "source": [
    "B,T,C=4,8,2\n",
    "torch.manual_seed(1337)\n",
    "xbow=torch.zeros((B,T,C),dtype=float)\n",
    "x=torch.randint(24,(B,T,C),dtype=float)\n",
    "#Token can't communicate with future token\n",
    "\n",
    "for b in range(B):\n",
    "    for t in range(T):\n",
    "        xprev=x[b,:t+1]\n",
    "        print(xprev)\n",
    "        xbow[b,t]=torch.mean(xprev)\n"
   ]
  },
  {
   "cell_type": "code",
   "execution_count": 3,
   "metadata": {},
   "outputs": [],
   "source": [
    "t=torch.tril(torch.ones(T,T))\n",
    "wei=torch.zeros((T,T))\n",
    "wei=wei.masked_fill(t==0,float('-inf'))\n",
    "wei=F.softmax(wei,dim=1)"
   ]
  },
  {
   "cell_type": "code",
   "execution_count": 4,
   "metadata": {},
   "outputs": [
    {
     "data": {
      "text/plain": [
       "tensor([[[ 7., 13.],\n",
       "         [20., 16.],\n",
       "         [23.,  1.],\n",
       "         [23.,  2.],\n",
       "         [18.,  2.],\n",
       "         [20.,  0.],\n",
       "         [ 9., 22.],\n",
       "         [ 6., 10.]],\n",
       "\n",
       "        [[23., 16.],\n",
       "         [ 9., 19.],\n",
       "         [ 5.,  6.],\n",
       "         [14., 18.],\n",
       "         [18.,  9.],\n",
       "         [ 0.,  3.],\n",
       "         [17., 20.],\n",
       "         [23.,  3.]],\n",
       "\n",
       "        [[ 6., 17.],\n",
       "         [15., 11.],\n",
       "         [19.,  1.],\n",
       "         [ 3., 20.],\n",
       "         [16.,  0.],\n",
       "         [21., 15.],\n",
       "         [18., 11.],\n",
       "         [ 9., 12.]],\n",
       "\n",
       "        [[23., 17.],\n",
       "         [20., 14.],\n",
       "         [20., 12.],\n",
       "         [10., 21.],\n",
       "         [22., 15.],\n",
       "         [12., 10.],\n",
       "         [18., 19.],\n",
       "         [17., 10.]]], dtype=torch.float64)"
      ]
     },
     "execution_count": 4,
     "metadata": {},
     "output_type": "execute_result"
    }
   ],
   "source": [
    "x"
   ]
  },
  {
   "cell_type": "code",
   "execution_count": 5,
   "metadata": {},
   "outputs": [],
   "source": [
    "pe=torch.zeros(65,512)\n",
    "position=torch.arange(65,dtype=torch.float).unsqueeze(1)\n",
    "div_term=torch.exp(-torch.arange(0,512,2)*math.log(10000)/512)"
   ]
  },
  {
   "cell_type": "code",
   "execution_count": 6,
   "metadata": {},
   "outputs": [],
   "source": [
    "a=position*div_term"
   ]
  },
  {
   "cell_type": "code",
   "execution_count": 7,
   "metadata": {},
   "outputs": [
    {
     "data": {
      "text/plain": [
       "tensor([[ 0.0000e+00,  0.0000e+00,  0.0000e+00,  ...,  0.0000e+00,\n",
       "          0.0000e+00,  0.0000e+00],\n",
       "        [ 8.4147e-01,  0.0000e+00,  8.2186e-01,  ...,  0.0000e+00,\n",
       "          1.0366e-04,  0.0000e+00],\n",
       "        [ 9.0930e-01,  0.0000e+00,  9.3641e-01,  ...,  0.0000e+00,\n",
       "          2.0733e-04,  0.0000e+00],\n",
       "        ...,\n",
       "        [-7.3918e-01,  0.0000e+00, -1.1848e-01,  ...,  0.0000e+00,\n",
       "          6.4271e-03,  0.0000e+00],\n",
       "        [ 1.6736e-01,  0.0000e+00, -8.8357e-01,  ...,  0.0000e+00,\n",
       "          6.5307e-03,  0.0000e+00],\n",
       "        [ 9.2003e-01,  0.0000e+00, -8.8825e-01,  ...,  0.0000e+00,\n",
       "          6.6344e-03,  0.0000e+00]])"
      ]
     },
     "execution_count": 7,
     "metadata": {},
     "output_type": "execute_result"
    }
   ],
   "source": [
    "pe[:,0::2]=torch.sin(position*div_term)\n",
    "pe"
   ]
  },
  {
   "cell_type": "code",
   "execution_count": 8,
   "metadata": {},
   "outputs": [
    {
     "data": {
      "text/plain": [
       "tensor([[ 0.0000e+00,  0.0000e+00,  0.0000e+00,  ...,  0.0000e+00,\n",
       "          0.0000e+00,  0.0000e+00],\n",
       "        [ 8.4147e-01,  8.2186e-01,  8.0196e-01,  ...,  1.1140e-04,\n",
       "          1.0746e-04,  1.0366e-04],\n",
       "        [ 9.0930e-01,  9.3641e-01,  9.5814e-01,  ...,  2.2279e-04,\n",
       "          2.1492e-04,  2.0733e-04],\n",
       "        ...,\n",
       "        [-7.3918e-01, -1.1848e-01,  9.1145e-01,  ...,  6.9066e-03,\n",
       "          6.6625e-03,  6.4271e-03],\n",
       "        [ 1.6736e-01, -8.8357e-01,  8.7441e-01,  ...,  7.0180e-03,\n",
       "          6.7700e-03,  6.5307e-03],\n",
       "        [ 9.2003e-01, -8.8825e-01,  1.3325e-01,  ...,  7.1294e-03,\n",
       "          6.8774e-03,  6.6344e-03]])"
      ]
     },
     "execution_count": 8,
     "metadata": {},
     "output_type": "execute_result"
    }
   ],
   "source": [
    "torch.sin(position*div_term)"
   ]
  },
  {
   "cell_type": "code",
   "execution_count": 26,
   "metadata": {},
   "outputs": [],
   "source": [
    "to_2d=nn.Embedding(5,2)"
   ]
  },
  {
   "cell_type": "code",
   "execution_count": 52,
   "metadata": {},
   "outputs": [],
   "source": [
    "A=torch.arange(0,4)\n",
    "B=torch.arange(0,4)\n",
    "\n",
    "# A=to_2d(A)\n",
    "# B=to_2d(B)"
   ]
  },
  {
   "cell_type": "code",
   "execution_count": 53,
   "metadata": {},
   "outputs": [
    {
     "data": {
      "text/plain": [
       "(tensor([0, 1, 2, 3]), tensor([0, 1, 2, 3]))"
      ]
     },
     "execution_count": 53,
     "metadata": {},
     "output_type": "execute_result"
    }
   ],
   "source": [
    "A,B"
   ]
  },
  {
   "cell_type": "code",
   "execution_count": 57,
   "metadata": {},
   "outputs": [
    {
     "name": "stdout",
     "output_type": "stream",
     "text": [
      "tensor([0, 1, 4, 9])\n"
     ]
    }
   ],
   "source": [
    "eins=torch.einsum('a,a->a',A,B)\n",
    "print(eins)"
   ]
  },
  {
   "cell_type": "code",
   "execution_count": 33,
   "metadata": {},
   "outputs": [
    {
     "data": {
      "text/plain": [
       "True"
      ]
     },
     "execution_count": 33,
     "metadata": {},
     "output_type": "execute_result"
    }
   ],
   "source": [
    "Product=A@B.T\n",
    "torch.allclose(eins,Product)\n"
   ]
  },
  {
   "cell_type": "code",
   "execution_count": 46,
   "metadata": {},
   "outputs": [],
   "source": [
    "theta=1./(10000**(torch.arange(0,512,2)/512)).float()\n",
    "seq_idx=torch.arange(0,300).float()\n",
    "idx_theta = torch.einsum('n,d->nd', seq_idx, theta)\n",
    "idx_theta2 = torch.cat([idx_theta, idx_theta], dim=1)\n"
   ]
  },
  {
   "cell_type": "code",
   "execution_count": 50,
   "metadata": {},
   "outputs": [
    {
     "data": {
      "text/plain": [
       "(torch.Size([256]), torch.Size([300]), torch.Size([300, 256]))"
      ]
     },
     "execution_count": 50,
     "metadata": {},
     "output_type": "execute_result"
    }
   ],
   "source": [
    "theta.shape,seq_idx.shape,idx_theta.shape"
   ]
  },
  {
   "cell_type": "code",
   "execution_count": 56,
   "metadata": {},
   "outputs": [
    {
     "data": {
      "text/plain": [
       "tensor([  0.,   1.,   2.,   3.,   4.,   5.,   6.,   7.,   8.,   9.,  10.,  11.,\n",
       "         12.,  13.,  14.,  15.,  16.,  17.,  18.,  19.,  20.,  21.,  22.,  23.,\n",
       "         24.,  25.,  26.,  27.,  28.,  29.,  30.,  31.,  32.,  33.,  34.,  35.,\n",
       "         36.,  37.,  38.,  39.,  40.,  41.,  42.,  43.,  44.,  45.,  46.,  47.,\n",
       "         48.,  49.,  50.,  51.,  52.,  53.,  54.,  55.,  56.,  57.,  58.,  59.,\n",
       "         60.,  61.,  62.,  63.,  64.,  65.,  66.,  67.,  68.,  69.,  70.,  71.,\n",
       "         72.,  73.,  74.,  75.,  76.,  77.,  78.,  79.,  80.,  81.,  82.,  83.,\n",
       "         84.,  85.,  86.,  87.,  88.,  89.,  90.,  91.,  92.,  93.,  94.,  95.,\n",
       "         96.,  97.,  98.,  99., 100., 101., 102., 103., 104., 105., 106., 107.,\n",
       "        108., 109., 110., 111., 112., 113., 114., 115., 116., 117., 118., 119.,\n",
       "        120., 121., 122., 123., 124., 125., 126., 127., 128., 129., 130., 131.,\n",
       "        132., 133., 134., 135., 136., 137., 138., 139., 140., 141., 142., 143.,\n",
       "        144., 145., 146., 147., 148., 149., 150., 151., 152., 153., 154., 155.,\n",
       "        156., 157., 158., 159., 160., 161., 162., 163., 164., 165., 166., 167.,\n",
       "        168., 169., 170., 171., 172., 173., 174., 175., 176., 177., 178., 179.,\n",
       "        180., 181., 182., 183., 184., 185., 186., 187., 188., 189., 190., 191.,\n",
       "        192., 193., 194., 195., 196., 197., 198., 199., 200., 201., 202., 203.,\n",
       "        204., 205., 206., 207., 208., 209., 210., 211., 212., 213., 214., 215.,\n",
       "        216., 217., 218., 219., 220., 221., 222., 223., 224., 225., 226., 227.,\n",
       "        228., 229., 230., 231., 232., 233., 234., 235., 236., 237., 238., 239.,\n",
       "        240., 241., 242., 243., 244., 245., 246., 247., 248., 249., 250., 251.,\n",
       "        252., 253., 254., 255., 256., 257., 258., 259., 260., 261., 262., 263.,\n",
       "        264., 265., 266., 267., 268., 269., 270., 271., 272., 273., 274., 275.,\n",
       "        276., 277., 278., 279., 280., 281., 282., 283., 284., 285., 286., 287.,\n",
       "        288., 289., 290., 291., 292., 293., 294., 295., 296., 297., 298., 299.])"
      ]
     },
     "execution_count": 56,
     "metadata": {},
     "output_type": "execute_result"
    }
   ],
   "source": [
    "seq_idx"
   ]
  },
  {
   "cell_type": "code",
   "execution_count": null,
   "metadata": {},
   "outputs": [],
   "source": []
  },
  {
   "cell_type": "code",
   "execution_count": null,
   "metadata": {},
   "outputs": [],
   "source": []
  },
  {
   "cell_type": "code",
   "execution_count": null,
   "metadata": {},
   "outputs": [],
   "source": []
  },
  {
   "cell_type": "code",
   "execution_count": null,
   "metadata": {},
   "outputs": [],
   "source": []
  },
  {
   "cell_type": "code",
   "execution_count": null,
   "metadata": {},
   "outputs": [],
   "source": []
  }
 ],
 "metadata": {
  "kernelspec": {
   "display_name": "Python 3",
   "language": "python",
   "name": "python3"
  },
  "language_info": {
   "codemirror_mode": {
    "name": "ipython",
    "version": 3
   },
   "file_extension": ".py",
   "mimetype": "text/x-python",
   "name": "python",
   "nbconvert_exporter": "python",
   "pygments_lexer": "ipython3",
   "version": "3.9.12"
  }
 },
 "nbformat": 4,
 "nbformat_minor": 2
}
